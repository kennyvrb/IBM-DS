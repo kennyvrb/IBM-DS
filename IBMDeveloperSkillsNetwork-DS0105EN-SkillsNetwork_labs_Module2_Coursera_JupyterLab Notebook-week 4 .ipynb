{
  "metadata": {
    "language_info": {
      "codemirror_mode": {
        "name": "python",
        "version": 3
      },
      "file_extension": ".py",
      "mimetype": "text/x-python",
      "name": "python",
      "nbconvert_exporter": "python",
      "pygments_lexer": "ipython3",
      "version": "3.8"
    },
    "kernelspec": {
      "name": "python",
      "display_name": "Pyolite",
      "language": "python"
    }
  },
  "nbformat_minor": 4,
  "nbformat": 4,
  "cells": [
    {
      "cell_type": "markdown",
      "source": "<H1>My Jupyter Notebook</H1>",
      "metadata": {}
    },
    {
      "cell_type": "markdown",
      "source": "<b> Kenny Bernardo </b>\n\nData Scientist",
      "metadata": {}
    },
    {
      "cell_type": "markdown",
      "source": "<i> Im interest in Data Science because I like to find the hidden insights in data and be able to take action accordingly.</i>",
      "metadata": {}
    },
    {
      "cell_type": "markdown",
      "source": "<H3>Code to calculate addition on two numbers</H3>",
      "metadata": {}
    },
    {
      "cell_type": "code",
      "source": "print ( 5 + 5 )",
      "metadata": {
        "trusted": true
      },
      "execution_count": 4,
      "outputs": [
        {
          "name": "stdout",
          "text": "10\n",
          "output_type": "stream"
        }
      ]
    },
    {
      "cell_type": "markdown",
      "source": "<hr>\n<img src=\"https://www.ibm.com/brand/experience-guides/developer/b1db1ae501d522a1a4b49613fe07c9f1/01_8-bar-positive.svg\" alt=\"IBM Logo\" size >\n<hr> \n<ul>\n<li> Item 1 </li>\n<li> Item 2 </li>\n<li> Item 3 </li>\n<li> Item 4 </li>\n</ul>\n<hr>\n<ol>\n    <li> Item 5 </li>\n    <li> Item 6 </li>\n    <li> Item 7 </li>\n    <li> Item 8 </li>\n</ol>\n<hr>\n<a href=\"http://www.google.com\"> Thank you!</a>\n<hr>\n",
      "metadata": {}
    }
  ]
}